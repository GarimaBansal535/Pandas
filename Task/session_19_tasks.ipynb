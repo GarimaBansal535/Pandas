{
 "cells": [
  {
   "cell_type": "markdown",
   "metadata": {
    "id": "mGBzdavGOUdP"
   },
   "source": [
    "## **Questions based on Titanic Dataset:**\n",
    "\n",
    "To read the dataset as csv, use the below code:\n",
    "\n",
    "```python\n",
    "import pandas as pd\n",
    "\n",
    "url = \"https://docs.google.com/spreadsheets/d/e/2PACX-1vQjh5HzZ1N0SU7ME9ZQRzeVTaXaGsV97rU8R7eAcg53k27GTstJp9cRUOfr55go1GRRvTz1NwvyOnuh/pub?gid=1562145139&single=true&output=csv\"\n",
    "titanic_df = pd.read_csv(url)\n",
    "```"
   ]
  },
  {
   "cell_type": "markdown",
   "metadata": {
    "id": "HsmRWKRoOa0-"
   },
   "source": [
    "### `Q-1:` Using `groupby` make groups using the `\"Pclass\"` column and find out the average age and total number of missing values in the `\"Age\"` column for every group."
   ]
  },
  {
   "cell_type": "code",
   "execution_count": 3,
   "metadata": {
    "id": "OdPLAvd4OVS6"
   },
   "outputs": [
    {
     "data": {
      "text/html": [
       "<div>\n",
       "<style scoped>\n",
       "    .dataframe tbody tr th:only-of-type {\n",
       "        vertical-align: middle;\n",
       "    }\n",
       "\n",
       "    .dataframe tbody tr th {\n",
       "        vertical-align: top;\n",
       "    }\n",
       "\n",
       "    .dataframe thead th {\n",
       "        text-align: right;\n",
       "    }\n",
       "</style>\n",
       "<table border=\"1\" class=\"dataframe\">\n",
       "  <thead>\n",
       "    <tr style=\"text-align: right;\">\n",
       "      <th></th>\n",
       "      <th>PassengerId</th>\n",
       "      <th>Survived</th>\n",
       "      <th>Pclass</th>\n",
       "      <th>Name</th>\n",
       "      <th>Sex</th>\n",
       "      <th>Age</th>\n",
       "      <th>SibSp</th>\n",
       "      <th>Parch</th>\n",
       "      <th>Ticket</th>\n",
       "      <th>Fare</th>\n",
       "      <th>Cabin</th>\n",
       "      <th>Embarked</th>\n",
       "    </tr>\n",
       "  </thead>\n",
       "  <tbody>\n",
       "    <tr>\n",
       "      <th>0</th>\n",
       "      <td>1</td>\n",
       "      <td>0</td>\n",
       "      <td>3</td>\n",
       "      <td>Braund, Mr. Owen Harris</td>\n",
       "      <td>male</td>\n",
       "      <td>22.0</td>\n",
       "      <td>1</td>\n",
       "      <td>0</td>\n",
       "      <td>A/5 21171</td>\n",
       "      <td>7.2500</td>\n",
       "      <td>NaN</td>\n",
       "      <td>S</td>\n",
       "    </tr>\n",
       "    <tr>\n",
       "      <th>1</th>\n",
       "      <td>2</td>\n",
       "      <td>1</td>\n",
       "      <td>1</td>\n",
       "      <td>Cumings, Mrs. John Bradley (Florence Briggs Th...</td>\n",
       "      <td>female</td>\n",
       "      <td>38.0</td>\n",
       "      <td>1</td>\n",
       "      <td>0</td>\n",
       "      <td>PC 17599</td>\n",
       "      <td>71.2833</td>\n",
       "      <td>C85</td>\n",
       "      <td>C</td>\n",
       "    </tr>\n",
       "    <tr>\n",
       "      <th>2</th>\n",
       "      <td>3</td>\n",
       "      <td>1</td>\n",
       "      <td>3</td>\n",
       "      <td>Heikkinen, Miss. Laina</td>\n",
       "      <td>female</td>\n",
       "      <td>26.0</td>\n",
       "      <td>0</td>\n",
       "      <td>0</td>\n",
       "      <td>STON/O2. 3101282</td>\n",
       "      <td>7.9250</td>\n",
       "      <td>NaN</td>\n",
       "      <td>S</td>\n",
       "    </tr>\n",
       "    <tr>\n",
       "      <th>3</th>\n",
       "      <td>4</td>\n",
       "      <td>1</td>\n",
       "      <td>1</td>\n",
       "      <td>Futrelle, Mrs. Jacques Heath (Lily May Peel)</td>\n",
       "      <td>female</td>\n",
       "      <td>35.0</td>\n",
       "      <td>1</td>\n",
       "      <td>0</td>\n",
       "      <td>113803</td>\n",
       "      <td>53.1000</td>\n",
       "      <td>C123</td>\n",
       "      <td>S</td>\n",
       "    </tr>\n",
       "    <tr>\n",
       "      <th>4</th>\n",
       "      <td>5</td>\n",
       "      <td>0</td>\n",
       "      <td>3</td>\n",
       "      <td>Allen, Mr. William Henry</td>\n",
       "      <td>male</td>\n",
       "      <td>35.0</td>\n",
       "      <td>0</td>\n",
       "      <td>0</td>\n",
       "      <td>373450</td>\n",
       "      <td>8.0500</td>\n",
       "      <td>NaN</td>\n",
       "      <td>S</td>\n",
       "    </tr>\n",
       "  </tbody>\n",
       "</table>\n",
       "</div>"
      ],
      "text/plain": [
       "   PassengerId  Survived  Pclass  \\\n",
       "0            1         0       3   \n",
       "1            2         1       1   \n",
       "2            3         1       3   \n",
       "3            4         1       1   \n",
       "4            5         0       3   \n",
       "\n",
       "                                                Name     Sex   Age  SibSp  \\\n",
       "0                            Braund, Mr. Owen Harris    male  22.0      1   \n",
       "1  Cumings, Mrs. John Bradley (Florence Briggs Th...  female  38.0      1   \n",
       "2                             Heikkinen, Miss. Laina  female  26.0      0   \n",
       "3       Futrelle, Mrs. Jacques Heath (Lily May Peel)  female  35.0      1   \n",
       "4                           Allen, Mr. William Henry    male  35.0      0   \n",
       "\n",
       "   Parch            Ticket     Fare Cabin Embarked  \n",
       "0      0         A/5 21171   7.2500   NaN        S  \n",
       "1      0          PC 17599  71.2833   C85        C  \n",
       "2      0  STON/O2. 3101282   7.9250   NaN        S  \n",
       "3      0            113803  53.1000  C123        S  \n",
       "4      0            373450   8.0500   NaN        S  "
      ]
     },
     "execution_count": 3,
     "metadata": {},
     "output_type": "execute_result"
    }
   ],
   "source": [
    "import pandas as pd\n",
    "\n",
    "url = \"https://docs.google.com/spreadsheets/d/e/2PACX-1vQjh5HzZ1N0SU7ME9ZQRzeVTaXaGsV97rU8R7eAcg53k27GTstJp9cRUOfr55go1GRRvTz1NwvyOnuh/pub?gid=1562145139&single=true&output=csv\"\n",
    "titanic_df = pd.read_csv(url)\n",
    "titanic_df.head(5)"
   ]
  },
  {
   "cell_type": "code",
   "execution_count": 4,
   "metadata": {},
   "outputs": [
    {
     "data": {
      "text/html": [
       "<div>\n",
       "<style scoped>\n",
       "    .dataframe tbody tr th:only-of-type {\n",
       "        vertical-align: middle;\n",
       "    }\n",
       "\n",
       "    .dataframe tbody tr th {\n",
       "        vertical-align: top;\n",
       "    }\n",
       "\n",
       "    .dataframe thead th {\n",
       "        text-align: right;\n",
       "    }\n",
       "</style>\n",
       "<table border=\"1\" class=\"dataframe\">\n",
       "  <thead>\n",
       "    <tr style=\"text-align: right;\">\n",
       "      <th></th>\n",
       "      <th>AverageAge</th>\n",
       "      <th>MissingAgeCount</th>\n",
       "    </tr>\n",
       "    <tr>\n",
       "      <th>Pclass</th>\n",
       "      <th></th>\n",
       "      <th></th>\n",
       "    </tr>\n",
       "  </thead>\n",
       "  <tbody>\n",
       "    <tr>\n",
       "      <th>1</th>\n",
       "      <td>38.233441</td>\n",
       "      <td>30</td>\n",
       "    </tr>\n",
       "    <tr>\n",
       "      <th>2</th>\n",
       "      <td>29.877630</td>\n",
       "      <td>11</td>\n",
       "    </tr>\n",
       "    <tr>\n",
       "      <th>3</th>\n",
       "      <td>25.140620</td>\n",
       "      <td>136</td>\n",
       "    </tr>\n",
       "  </tbody>\n",
       "</table>\n",
       "</div>"
      ],
      "text/plain": [
       "        AverageAge  MissingAgeCount\n",
       "Pclass                             \n",
       "1        38.233441               30\n",
       "2        29.877630               11\n",
       "3        25.140620              136"
      ]
     },
     "execution_count": 4,
     "metadata": {},
     "output_type": "execute_result"
    }
   ],
   "source": [
    "\n",
    "grouped = titanic_df.groupby('Pclass')\n",
    "avg_age = grouped['Age'].mean().rename('AverageAge')\n",
    "missing_age = grouped['Age'].apply(lambda x: x.isna().sum()).rename('MissingAgeCount')\n",
    "\n",
    "result = pd.concat([avg_age, missing_age], axis=1)\n",
    "result"
   ]
  },
  {
   "cell_type": "markdown",
   "metadata": {
    "id": "CGBHGvCMOctq"
   },
   "source": [
    "### `Q-2:` Using `groupby` make groups using the `\"Pclass\"` column and fill every group's `\"Embarked\"` column's missing values with the mode value of that group. After that, print every group's `\"Embarked\"` column's value counts in ascending order."
   ]
  },
  {
   "cell_type": "code",
   "execution_count": 9,
   "metadata": {
    "id": "eOMciiM_OfPU"
   },
   "outputs": [
    {
     "data": {
      "text/plain": [
       "2"
      ]
     },
     "execution_count": 9,
     "metadata": {},
     "output_type": "execute_result"
    }
   ],
   "source": [
    "\n",
    "titanic_df.Embarked.isna().sum()"
   ]
  },
  {
   "cell_type": "code",
   "execution_count": 10,
   "metadata": {},
   "outputs": [
    {
     "data": {
      "text/plain": [
       "'S'"
      ]
     },
     "execution_count": 10,
     "metadata": {},
     "output_type": "execute_result"
    }
   ],
   "source": [
    "mode=titanic_df[\"Embarked\"].value_counts().idxmax()\n",
    "mode"
   ]
  },
  {
   "cell_type": "code",
   "execution_count": 5,
   "metadata": {},
   "outputs": [
    {
     "name": "stderr",
     "output_type": "stream",
     "text": [
      "C:\\Users\\DELL\\AppData\\Local\\Temp\\ipykernel_27136\\450408789.py:1: FutureWarning: SeriesGroupBy.fillna is deprecated and will be removed in a future version. Use obj.ffill() or obj.bfill() for forward or backward filling instead. If you want to fill with a single value, use Series.fillna instead\n",
      "  titanic_df.groupby(\"Pclass\")[\"Embarked\"].fillna(mode).value_counts(ascending=False)\n"
     ]
    },
    {
     "data": {
      "text/plain": [
       "Embarked\n",
       "S    646\n",
       "C    168\n",
       "Q     77\n",
       "Name: count, dtype: int64"
      ]
     },
     "execution_count": 5,
     "metadata": {},
     "output_type": "execute_result"
    }
   ],
   "source": [
    "titanic_df.groupby(\"Pclass\")[\"Embarked\"].fillna(mode).value_counts(ascending=False)\n"
   ]
  },
  {
   "cell_type": "markdown",
   "metadata": {
    "id": "3B4ieUtTOg2E"
   },
   "source": [
    "### `Q-3:` Make groups based on `\"Embarked\"` column. And for each of this embarked group, make another group based on `\"Pclass\"` and find out the average fare (round off up to 2 decimal places) for each \"Pclass\" for each group of \"Embarked\".\n",
    "\n",
    "**Sample Output:**\n",
    "\n",
    "```bash\n",
    "{'C': {1: 105, 2: 25, 3: 11},\n",
    " 'Q': {1: 90, 2: 12, 3: 11},\n",
    " 'S': {1: 70, 2: 20, 3: 15}}\n",
    "```"
   ]
  },
  {
   "cell_type": "code",
   "execution_count": 13,
   "metadata": {
    "id": "rQvGcpCLOjEk"
   },
   "outputs": [
    {
     "data": {
      "text/plain": [
       "Pclass  Embarked\n",
       "1       C           104.72\n",
       "        Q            90.00\n",
       "        S            70.36\n",
       "2       C            25.36\n",
       "        Q            12.35\n",
       "        S            20.33\n",
       "3       C            11.21\n",
       "        Q            11.18\n",
       "        S            14.64\n",
       "Name: Fare, dtype: float64"
      ]
     },
     "execution_count": 13,
     "metadata": {},
     "output_type": "execute_result"
    }
   ],
   "source": [
    "df=titanic_df.groupby([\"Pclass\",\"Embarked\"])['Fare'].mean().round(2)\n",
    "df"
   ]
  },
  {
   "cell_type": "code",
   "execution_count": 14,
   "metadata": {},
   "outputs": [
    {
     "data": {
      "text/plain": [
       "{'C': {1: 104.72, 2: 25.36, 3: 11.21},\n",
       " 'Q': {1: 90.0, 2: 12.35, 3: 11.18},\n",
       " 'S': {1: 70.36, 2: 20.33, 3: 14.64}}"
      ]
     },
     "execution_count": 14,
     "metadata": {},
     "output_type": "execute_result"
    }
   ],
   "source": [
    "df.unstack().to_dict()"
   ]
  },
  {
   "cell_type": "markdown",
   "metadata": {
    "id": "iS6vHZUIOnJy"
   },
   "source": [
    "## **Questions Based on Fifa Worldcup - 2022 Dataset:**\n",
    "\n",
    "You can read the dataset by using the below sample code\n",
    "\n",
    "```python\n",
    "import pandas as pd\n",
    "\n",
    "fifa_df = pd.read_csv(\"https://docs.google.com/spreadsheets/d/e/2PACX-1vT3D_x_4DS6d51LKJ7ze1sxT5WpV5uiSVOFYHLwBiGru6vFyVv5h5-83AwFjxWYiWfCDjDAaarHAV-k/pub?gid=0&single=true&output=csv\")\n",
    "```"
   ]
  },
  {
   "cell_type": "code",
   "execution_count": 9,
   "metadata": {},
   "outputs": [
    {
     "data": {
      "text/html": [
       "<div>\n",
       "<style scoped>\n",
       "    .dataframe tbody tr th:only-of-type {\n",
       "        vertical-align: middle;\n",
       "    }\n",
       "\n",
       "    .dataframe tbody tr th {\n",
       "        vertical-align: top;\n",
       "    }\n",
       "\n",
       "    .dataframe thead th {\n",
       "        text-align: right;\n",
       "    }\n",
       "</style>\n",
       "<table border=\"1\" class=\"dataframe\">\n",
       "  <thead>\n",
       "    <tr style=\"text-align: right;\">\n",
       "      <th></th>\n",
       "      <th>Sl. No</th>\n",
       "      <th>Match No.</th>\n",
       "      <th>Team</th>\n",
       "      <th>Against</th>\n",
       "      <th>Group</th>\n",
       "      <th>Goal</th>\n",
       "      <th>Possession (%)</th>\n",
       "      <th>Inside Penalty Area</th>\n",
       "      <th>Outside Penalty Area</th>\n",
       "      <th>Assists</th>\n",
       "      <th>...</th>\n",
       "      <th>Fouls Against</th>\n",
       "      <th>Offsides</th>\n",
       "      <th>Passes</th>\n",
       "      <th>Passes Completed</th>\n",
       "      <th>Crosses</th>\n",
       "      <th>Crosses Completed</th>\n",
       "      <th>Corners</th>\n",
       "      <th>Free Kicks</th>\n",
       "      <th>Penalties Scored</th>\n",
       "      <th>Pts</th>\n",
       "    </tr>\n",
       "  </thead>\n",
       "  <tbody>\n",
       "    <tr>\n",
       "      <th>0</th>\n",
       "      <td>1</td>\n",
       "      <td>1</td>\n",
       "      <td>Qatar</td>\n",
       "      <td>Ecuador</td>\n",
       "      <td>A</td>\n",
       "      <td>0</td>\n",
       "      <td>40</td>\n",
       "      <td>0</td>\n",
       "      <td>0</td>\n",
       "      <td>0</td>\n",
       "      <td>...</td>\n",
       "      <td>15</td>\n",
       "      <td>3</td>\n",
       "      <td>453</td>\n",
       "      <td>387</td>\n",
       "      <td>10</td>\n",
       "      <td>5</td>\n",
       "      <td>1</td>\n",
       "      <td>19</td>\n",
       "      <td>0</td>\n",
       "      <td>0</td>\n",
       "    </tr>\n",
       "    <tr>\n",
       "      <th>1</th>\n",
       "      <td>2</td>\n",
       "      <td>1</td>\n",
       "      <td>Ecuador</td>\n",
       "      <td>Qatar</td>\n",
       "      <td>A</td>\n",
       "      <td>2</td>\n",
       "      <td>46</td>\n",
       "      <td>2</td>\n",
       "      <td>0</td>\n",
       "      <td>1</td>\n",
       "      <td>...</td>\n",
       "      <td>15</td>\n",
       "      <td>4</td>\n",
       "      <td>484</td>\n",
       "      <td>419</td>\n",
       "      <td>26</td>\n",
       "      <td>10</td>\n",
       "      <td>3</td>\n",
       "      <td>17</td>\n",
       "      <td>1</td>\n",
       "      <td>3</td>\n",
       "    </tr>\n",
       "  </tbody>\n",
       "</table>\n",
       "<p>2 rows × 38 columns</p>\n",
       "</div>"
      ],
      "text/plain": [
       "   Sl. No  Match No.     Team  Against Group  Goal  Possession (%)  \\\n",
       "0       1          1    Qatar  Ecuador     A     0              40   \n",
       "1       2          1  Ecuador    Qatar     A     2              46   \n",
       "\n",
       "   Inside Penalty Area  Outside Penalty Area  Assists  ...  Fouls Against  \\\n",
       "0                    0                     0        0  ...             15   \n",
       "1                    2                     0        1  ...             15   \n",
       "\n",
       "   Offsides  Passes  Passes Completed  Crosses  Crosses Completed  Corners  \\\n",
       "0         3     453               387       10                  5        1   \n",
       "1         4     484               419       26                 10        3   \n",
       "\n",
       "   Free Kicks  Penalties Scored  Pts  \n",
       "0          19                 0    0  \n",
       "1          17                 1    3  \n",
       "\n",
       "[2 rows x 38 columns]"
      ]
     },
     "execution_count": 9,
     "metadata": {},
     "output_type": "execute_result"
    }
   ],
   "source": [
    "import pandas as pd\n",
    "\n",
    "fifa_df = pd.read_csv(\"https://docs.google.com/spreadsheets/d/e/2PACX-1vT3D_x_4DS6d51LKJ7ze1sxT5WpV5uiSVOFYHLwBiGru6vFyVv5h5-83AwFjxWYiWfCDjDAaarHAV-k/pub?gid=0&single=true&output=csv\")\n",
    "fifa_df.head(2)"
   ]
  },
  {
   "cell_type": "markdown",
   "metadata": {
    "id": "3GPZOvh5Oqhp"
   },
   "source": [
    "### `Q-4:` Perform `groupby` based on the `\"Team\"` column and then perform Z Normalization on top of the below columns of each group:\n",
    "1. Passes\n",
    "2. Passes Completed\n",
    "3. Attempted Line Breaks\n",
    "4. Completed Line Breaks\n",
    "\n",
    "You have to make a python function named `z_normalization` which takes two arguments:\n",
    "\n",
    "1. *group:* Every group that you have created\n",
    "2. *cols_to_perform:* This parameter takes a list of columns on which you have to perform the Z-Normalization.\n",
    "\n",
    "For this problem, you have to use th `apply()` method.\n",
    "\n",
    "$\\Large Z \\ - \\ Normalization = \\frac{X_i - \\mu}{std} $\n",
    "\n",
    "After that find out the below values for each group:\n",
    "- minimum \"Passess\"\n",
    "- maximum \"Passess\"\n",
    "- minimum \"Yellow Cards\"\n",
    "- maximum \"Yellow cards\"\n",
    "- average \"Yellow Cards\"\n",
    "- maximum \"Attempted Line Breaks\"\n",
    "- minimum \"Attempted Line Breaks\"\n",
    "- standardard deviation of \"Attempted Line Breaks\"\n",
    "- average Possession"
   ]
  },
  {
   "cell_type": "code",
   "execution_count": 2,
   "metadata": {},
   "outputs": [],
   "source": [
    "def nrml(grp,col_name):\n",
    "    df=fifa_df.groupby(grp)[col_name].apply(lambda x:(x-x.mean())/x.std())\n",
    "    return df\n",
    "  "
   ]
  },
  {
   "cell_type": "code",
   "execution_count": 3,
   "metadata": {},
   "outputs": [
    {
     "name": "stdout",
     "output_type": "stream",
     "text": [
      "Team          \n",
      "Argentina  8     -0.157888\n",
      "           46    -0.574048\n",
      "           77     1.813757\n",
      "           98     0.592566\n",
      "           115   -0.253400\n",
      "                    ...   \n",
      "Uruguay    63    -0.894617\n",
      "           89    -0.184945\n",
      "Wales      7     -0.139325\n",
      "           32     1.062357\n",
      "           68    -0.923031\n",
      "Name: Passes Completed, Length: 128, dtype: float64\n"
     ]
    }
   ],
   "source": [
    "print(nrml(\"Team\",'Passes Completed'))  "
   ]
  },
  {
   "cell_type": "code",
   "execution_count": 20,
   "metadata": {},
   "outputs": [
    {
     "name": "stdout",
     "output_type": "stream",
     "text": [
      "Team          \n",
      "Argentina  8     -0.208138\n",
      "           46    -0.630447\n",
      "           77     1.685214\n",
      "           98     0.622403\n",
      "           115   -0.137753\n",
      "                    ...   \n",
      "Uruguay    63    -0.931702\n",
      "           89    -0.124867\n",
      "Wales      7     -0.054584\n",
      "           32     1.026174\n",
      "           68    -0.971590\n",
      "Name: Passes, Length: 128, dtype: float64\n"
     ]
    }
   ],
   "source": [
    "print(nrml(\"Team\",'Passes')) "
   ]
  },
  {
   "cell_type": "code",
   "execution_count": 22,
   "metadata": {},
   "outputs": [
    {
     "name": "stdout",
     "output_type": "stream",
     "text": [
      "Team          \n",
      "Argentina  8      0.364745\n",
      "           46    -0.795806\n",
      "           77    -1.027917\n",
      "           98     0.003684\n",
      "           115    0.571065\n",
      "                    ...   \n",
      "Uruguay    63    -0.484182\n",
      "           89     1.149932\n",
      "Wales      7      0.226294\n",
      "           32     0.867461\n",
      "           68    -1.093756\n",
      "Name: Attempted Line Breaks, Length: 128, dtype: float64\n"
     ]
    }
   ],
   "source": [
    "print(nrml(\"Team\",'Attempted Line Breaks') )"
   ]
  },
  {
   "cell_type": "code",
   "execution_count": 23,
   "metadata": {},
   "outputs": [
    {
     "name": "stdout",
     "output_type": "stream",
     "text": [
      "Team          \n",
      "Argentina  8      0.087403\n",
      "           46    -0.945040\n",
      "           77     0.049164\n",
      "           98     0.393311\n",
      "           115   -0.103791\n",
      "                    ...   \n",
      "Uruguay    63    -0.623480\n",
      "           89     1.153437\n",
      "Wales      7      0.195342\n",
      "           32     0.887916\n",
      "           68    -1.083258\n",
      "Name: Completed Line Breaks, Length: 128, dtype: float64\n"
     ]
    }
   ],
   "source": [
    "print(nrml(\"Team\",'Completed Line Breaks'))"
   ]
  },
  {
   "cell_type": "code",
   "execution_count": 19,
   "metadata": {},
   "outputs": [
    {
     "data": {
      "text/html": [
       "<div>\n",
       "<style scoped>\n",
       "    .dataframe tbody tr th:only-of-type {\n",
       "        vertical-align: middle;\n",
       "    }\n",
       "\n",
       "    .dataframe tbody tr th {\n",
       "        vertical-align: top;\n",
       "    }\n",
       "\n",
       "    .dataframe thead tr th {\n",
       "        text-align: left;\n",
       "    }\n",
       "\n",
       "    .dataframe thead tr:last-of-type th {\n",
       "        text-align: right;\n",
       "    }\n",
       "</style>\n",
       "<table border=\"1\" class=\"dataframe\">\n",
       "  <thead>\n",
       "    <tr>\n",
       "      <th></th>\n",
       "      <th colspan=\"2\" halign=\"left\">Passes</th>\n",
       "      <th colspan=\"2\" halign=\"left\">Yellow Cards</th>\n",
       "      <th colspan=\"3\" halign=\"left\">Attempted Line Breaks</th>\n",
       "      <th>Possession (%)</th>\n",
       "    </tr>\n",
       "    <tr>\n",
       "      <th></th>\n",
       "      <th>min</th>\n",
       "      <th>max</th>\n",
       "      <th>min</th>\n",
       "      <th>max</th>\n",
       "      <th>max</th>\n",
       "      <th>min</th>\n",
       "      <th>std</th>\n",
       "      <th>mean</th>\n",
       "    </tr>\n",
       "    <tr>\n",
       "      <th>Team</th>\n",
       "      <th></th>\n",
       "      <th></th>\n",
       "      <th></th>\n",
       "      <th></th>\n",
       "      <th></th>\n",
       "      <th></th>\n",
       "      <th></th>\n",
       "      <th></th>\n",
       "    </tr>\n",
       "  </thead>\n",
       "  <tbody>\n",
       "    <tr>\n",
       "      <th>Argentina</th>\n",
       "      <td>408</td>\n",
       "      <td>862</td>\n",
       "      <td>0</td>\n",
       "      <td>8</td>\n",
       "      <td>249</td>\n",
       "      <td>141</td>\n",
       "      <td>38.774685</td>\n",
       "      <td>49.285714</td>\n",
       "    </tr>\n",
       "    <tr>\n",
       "      <th>Australia</th>\n",
       "      <td>286</td>\n",
       "      <td>466</td>\n",
       "      <td>0</td>\n",
       "      <td>3</td>\n",
       "      <td>171</td>\n",
       "      <td>133</td>\n",
       "      <td>17.682383</td>\n",
       "      <td>31.250000</td>\n",
       "    </tr>\n",
       "    <tr>\n",
       "      <th>Belgium</th>\n",
       "      <td>512</td>\n",
       "      <td>685</td>\n",
       "      <td>1</td>\n",
       "      <td>3</td>\n",
       "      <td>195</td>\n",
       "      <td>167</td>\n",
       "      <td>14.422205</td>\n",
       "      <td>49.000000</td>\n",
       "    </tr>\n",
       "    <tr>\n",
       "      <th>Brazil</th>\n",
       "      <td>548</td>\n",
       "      <td>695</td>\n",
       "      <td>0</td>\n",
       "      <td>3</td>\n",
       "      <td>193</td>\n",
       "      <td>164</td>\n",
       "      <td>10.691118</td>\n",
       "      <td>50.400000</td>\n",
       "    </tr>\n",
       "  </tbody>\n",
       "</table>\n",
       "</div>"
      ],
      "text/plain": [
       "          Passes      Yellow Cards     Attempted Line Breaks                  \\\n",
       "             min  max          min max                   max  min        std   \n",
       "Team                                                                           \n",
       "Argentina    408  862            0   8                   249  141  38.774685   \n",
       "Australia    286  466            0   3                   171  133  17.682383   \n",
       "Belgium      512  685            1   3                   195  167  14.422205   \n",
       "Brazil       548  695            0   3                   193  164  10.691118   \n",
       "\n",
       "          Possession (%)  \n",
       "                    mean  \n",
       "Team                      \n",
       "Argentina      49.285714  \n",
       "Australia      31.250000  \n",
       "Belgium        49.000000  \n",
       "Brazil         50.400000  "
      ]
     },
     "execution_count": 19,
     "metadata": {},
     "output_type": "execute_result"
    }
   ],
   "source": [
    "df=fifa_df.groupby(\"Team\").agg({'Passes':['min','max'], 'Yellow Cards':['min','max'],'Attempted Line Breaks':['max','min','std'],'Possession (%)':['mean']})\n",
    "df.head(4)"
   ]
  },
  {
   "cell_type": "markdown",
   "metadata": {
    "id": "RPjqA-OtOxDD"
   },
   "source": [
    "## **Questions on IPL wala dataset**\n",
    "\n",
    "ball by ball dataset - https://drive.google.com/file/d/1-kvv_9KCSAFWcrhS9WgTxSrURkRh6GNt/view?usp=share_link\n",
    "\n",
    "\n",
    "\n"
   ]
  },
  {
   "cell_type": "markdown",
   "metadata": {
    "id": "IeQpV8A2O0IR"
   },
   "source": [
    "###`Q-5:` Find batsman in below category-\n",
    "* Highest score while chasing\n",
    "* Best Strike rate while chasing and have faced 100+ balls\n",
    "\n",
    "\n",
    "> Chasing mean team batting in second inning"
   ]
  },
  {
   "cell_type": "code",
   "execution_count": 54,
   "metadata": {
    "id": "nwa-adpMOxl4"
   },
   "outputs": [
    {
     "data": {
      "text/html": [
       "<div>\n",
       "<style scoped>\n",
       "    .dataframe tbody tr th:only-of-type {\n",
       "        vertical-align: middle;\n",
       "    }\n",
       "\n",
       "    .dataframe tbody tr th {\n",
       "        vertical-align: top;\n",
       "    }\n",
       "\n",
       "    .dataframe thead th {\n",
       "        text-align: right;\n",
       "    }\n",
       "</style>\n",
       "<table border=\"1\" class=\"dataframe\">\n",
       "  <thead>\n",
       "    <tr style=\"text-align: right;\">\n",
       "      <th></th>\n",
       "      <th>ID</th>\n",
       "      <th>innings</th>\n",
       "      <th>overs</th>\n",
       "      <th>ballnumber</th>\n",
       "      <th>batter</th>\n",
       "      <th>bowler</th>\n",
       "      <th>non-striker</th>\n",
       "      <th>extra_type</th>\n",
       "      <th>batsman_run</th>\n",
       "      <th>extras_run</th>\n",
       "      <th>total_run</th>\n",
       "      <th>non_boundary</th>\n",
       "      <th>isWicketDelivery</th>\n",
       "      <th>player_out</th>\n",
       "      <th>kind</th>\n",
       "      <th>fielders_involved</th>\n",
       "      <th>BattingTeam</th>\n",
       "    </tr>\n",
       "  </thead>\n",
       "  <tbody>\n",
       "    <tr>\n",
       "      <th>0</th>\n",
       "      <td>1312200</td>\n",
       "      <td>1</td>\n",
       "      <td>0</td>\n",
       "      <td>1</td>\n",
       "      <td>YBK Jaiswal</td>\n",
       "      <td>Mohammed Shami</td>\n",
       "      <td>JC Buttler</td>\n",
       "      <td>NaN</td>\n",
       "      <td>0</td>\n",
       "      <td>0</td>\n",
       "      <td>0</td>\n",
       "      <td>0</td>\n",
       "      <td>0</td>\n",
       "      <td>NaN</td>\n",
       "      <td>NaN</td>\n",
       "      <td>NaN</td>\n",
       "      <td>Rajasthan Royals</td>\n",
       "    </tr>\n",
       "    <tr>\n",
       "      <th>1</th>\n",
       "      <td>1312200</td>\n",
       "      <td>1</td>\n",
       "      <td>0</td>\n",
       "      <td>2</td>\n",
       "      <td>YBK Jaiswal</td>\n",
       "      <td>Mohammed Shami</td>\n",
       "      <td>JC Buttler</td>\n",
       "      <td>legbyes</td>\n",
       "      <td>0</td>\n",
       "      <td>1</td>\n",
       "      <td>1</td>\n",
       "      <td>0</td>\n",
       "      <td>0</td>\n",
       "      <td>NaN</td>\n",
       "      <td>NaN</td>\n",
       "      <td>NaN</td>\n",
       "      <td>Rajasthan Royals</td>\n",
       "    </tr>\n",
       "  </tbody>\n",
       "</table>\n",
       "</div>"
      ],
      "text/plain": [
       "        ID  innings  overs  ballnumber       batter          bowler  \\\n",
       "0  1312200        1      0           1  YBK Jaiswal  Mohammed Shami   \n",
       "1  1312200        1      0           2  YBK Jaiswal  Mohammed Shami   \n",
       "\n",
       "  non-striker extra_type  batsman_run  extras_run  total_run  non_boundary  \\\n",
       "0  JC Buttler        NaN            0           0          0             0   \n",
       "1  JC Buttler    legbyes            0           1          1             0   \n",
       "\n",
       "   isWicketDelivery player_out kind fielders_involved       BattingTeam  \n",
       "0                 0        NaN  NaN               NaN  Rajasthan Royals  \n",
       "1                 0        NaN  NaN               NaN  Rajasthan Royals  "
      ]
     },
     "execution_count": 54,
     "metadata": {},
     "output_type": "execute_result"
    }
   ],
   "source": [
    "ipl=pd.read_csv('IPL_Ball_by_Ball_2008_2022.csv')\n",
    "ipl.head(2)"
   ]
  },
  {
   "cell_type": "code",
   "execution_count": 67,
   "metadata": {},
   "outputs": [
    {
     "data": {
      "text/plain": [
       "Index(['ID', 'innings', 'overs', 'ballnumber', 'batter', 'bowler',\n",
       "       'non-striker', 'extra_type', 'batsman_run', 'extras_run', 'total_run',\n",
       "       'non_boundary', 'isWicketDelivery', 'player_out', 'kind',\n",
       "       'fielders_involved', 'BattingTeam'],\n",
       "      dtype='object')"
      ]
     },
     "execution_count": 67,
     "metadata": {},
     "output_type": "execute_result"
    }
   ],
   "source": [
    "ipl.columns\n"
   ]
  },
  {
   "cell_type": "code",
   "execution_count": 23,
   "metadata": {},
   "outputs": [
    {
     "data": {
      "text/plain": [
       "'V Kohli'"
      ]
     },
     "execution_count": 23,
     "metadata": {},
     "output_type": "execute_result"
    }
   ],
   "source": [
    "ipl[ipl['innings']==2].groupby('batter')['batsman_run'].sum().idxmax()"
   ]
  },
  {
   "cell_type": "code",
   "execution_count": 41,
   "metadata": {},
   "outputs": [],
   "source": [
    "ball_played=ipl['batter'].value_counts()"
   ]
  },
  {
   "cell_type": "code",
   "execution_count": 51,
   "metadata": {},
   "outputs": [
    {
     "data": {
      "text/html": [
       "<div>\n",
       "<style scoped>\n",
       "    .dataframe tbody tr th:only-of-type {\n",
       "        vertical-align: middle;\n",
       "    }\n",
       "\n",
       "    .dataframe tbody tr th {\n",
       "        vertical-align: top;\n",
       "    }\n",
       "\n",
       "    .dataframe thead th {\n",
       "        text-align: right;\n",
       "    }\n",
       "</style>\n",
       "<table border=\"1\" class=\"dataframe\">\n",
       "  <thead>\n",
       "    <tr style=\"text-align: right;\">\n",
       "      <th></th>\n",
       "      <th>batter</th>\n",
       "      <th>Total_run</th>\n",
       "      <th>count</th>\n",
       "      <th>strike_rate</th>\n",
       "    </tr>\n",
       "  </thead>\n",
       "  <tbody>\n",
       "    <tr>\n",
       "      <th>458</th>\n",
       "      <td>SM Katich</td>\n",
       "      <td>230</td>\n",
       "      <td>191</td>\n",
       "      <td>120.42</td>\n",
       "    </tr>\n",
       "    <tr>\n",
       "      <th>219</th>\n",
       "      <td>K Gowtham</td>\n",
       "      <td>136</td>\n",
       "      <td>115</td>\n",
       "      <td>118.26</td>\n",
       "    </tr>\n",
       "    <tr>\n",
       "      <th>113</th>\n",
       "      <td>D Brevis</td>\n",
       "      <td>120</td>\n",
       "      <td>116</td>\n",
       "      <td>103.45</td>\n",
       "    </tr>\n",
       "    <tr>\n",
       "      <th>326</th>\n",
       "      <td>N Pooran</td>\n",
       "      <td>632</td>\n",
       "      <td>630</td>\n",
       "      <td>100.32</td>\n",
       "    </tr>\n",
       "  </tbody>\n",
       "</table>\n",
       "</div>"
      ],
      "text/plain": [
       "        batter  Total_run  count  strike_rate\n",
       "458  SM Katich        230    191       120.42\n",
       "219  K Gowtham        136    115       118.26\n",
       "113   D Brevis        120    116       103.45\n",
       "326   N Pooran        632    630       100.32"
      ]
     },
     "execution_count": 51,
     "metadata": {},
     "output_type": "execute_result"
    }
   ],
   "source": [
    "df=ipl[ipl['innings']==2].groupby('batter')['batsman_run'].sum().reset_index(name='Total_run').merge(ball_played,on='batter')\n",
    "df['strike_rate']=((df['Total_run']/df['count'])*100).round(2)\n",
    "df[df['count']>100].sort_values(by='strike_rate',ascending=False).head(4)"
   ]
  },
  {
   "cell_type": "markdown",
   "metadata": {
    "id": "Wr443WT0O2Qw"
   },
   "source": [
    "###`Q-6` Most Successful bowler against any batsman. Find that pair of bowler and batsman.\n",
    "> Most Successful in terms of dissmissal. A bowler who have dissmissed any batsman most no of times. If any two pairs have same no of dissmisal, consider runs conceded by bowler to that batsman. Those who have concede lesser runs is more successful."
   ]
  },
  {
   "cell_type": "code",
   "execution_count": 43,
   "metadata": {
    "id": "oG1P4PT8O4u4"
   },
   "outputs": [
    {
     "data": {
      "text/html": [
       "<div>\n",
       "<style scoped>\n",
       "    .dataframe tbody tr th:only-of-type {\n",
       "        vertical-align: middle;\n",
       "    }\n",
       "\n",
       "    .dataframe tbody tr th {\n",
       "        vertical-align: top;\n",
       "    }\n",
       "\n",
       "    .dataframe thead th {\n",
       "        text-align: right;\n",
       "    }\n",
       "</style>\n",
       "<table border=\"1\" class=\"dataframe\">\n",
       "  <thead>\n",
       "    <tr style=\"text-align: right;\">\n",
       "      <th></th>\n",
       "      <th></th>\n",
       "      <th>isWicketDelivery</th>\n",
       "      <th>batsman_run</th>\n",
       "    </tr>\n",
       "    <tr>\n",
       "      <th>bowler</th>\n",
       "      <th>batter</th>\n",
       "      <th></th>\n",
       "      <th></th>\n",
       "    </tr>\n",
       "  </thead>\n",
       "  <tbody>\n",
       "    <tr>\n",
       "      <th>SP Narine</th>\n",
       "      <th>RG Sharma</th>\n",
       "      <td>8</td>\n",
       "      <td>137</td>\n",
       "    </tr>\n",
       "    <tr>\n",
       "      <th>R Ashwin</th>\n",
       "      <th>RV Uthappa</th>\n",
       "      <td>7</td>\n",
       "      <td>123</td>\n",
       "    </tr>\n",
       "    <tr>\n",
       "      <th>PP Ojha</th>\n",
       "      <th>MS Dhoni</th>\n",
       "      <td>7</td>\n",
       "      <td>98</td>\n",
       "    </tr>\n",
       "    <tr>\n",
       "      <th>A Mishra</th>\n",
       "      <th>RG Sharma</th>\n",
       "      <td>7</td>\n",
       "      <td>87</td>\n",
       "    </tr>\n",
       "    <tr>\n",
       "      <th>Sandeep Sharma</th>\n",
       "      <th>V Kohli</th>\n",
       "      <td>7</td>\n",
       "      <td>78</td>\n",
       "    </tr>\n",
       "    <tr>\n",
       "      <th>...</th>\n",
       "      <th>...</th>\n",
       "      <td>...</td>\n",
       "      <td>...</td>\n",
       "    </tr>\n",
       "    <tr>\n",
       "      <th>Yash Dayal</th>\n",
       "      <th>MM Ali</th>\n",
       "      <td>0</td>\n",
       "      <td>0</td>\n",
       "    </tr>\n",
       "    <tr>\n",
       "      <th>Yuvraj Singh</th>\n",
       "      <th>PC Valthaty</th>\n",
       "      <td>0</td>\n",
       "      <td>0</td>\n",
       "    </tr>\n",
       "    <tr>\n",
       "      <th rowspan=\"3\" valign=\"top\">Z Khan</th>\n",
       "      <th>A Zampa</th>\n",
       "      <td>0</td>\n",
       "      <td>0</td>\n",
       "    </tr>\n",
       "    <tr>\n",
       "      <th>MJ Lumb</th>\n",
       "      <td>0</td>\n",
       "      <td>0</td>\n",
       "    </tr>\n",
       "    <tr>\n",
       "      <th>PR Shah</th>\n",
       "      <td>0</td>\n",
       "      <td>0</td>\n",
       "    </tr>\n",
       "  </tbody>\n",
       "</table>\n",
       "<p>24213 rows × 2 columns</p>\n",
       "</div>"
      ],
      "text/plain": [
       "                            isWicketDelivery  batsman_run\n",
       "bowler         batter                                    \n",
       "SP Narine      RG Sharma                   8          137\n",
       "R Ashwin       RV Uthappa                  7          123\n",
       "PP Ojha        MS Dhoni                    7           98\n",
       "A Mishra       RG Sharma                   7           87\n",
       "Sandeep Sharma V Kohli                     7           78\n",
       "...                                      ...          ...\n",
       "Yash Dayal     MM Ali                      0            0\n",
       "Yuvraj Singh   PC Valthaty                 0            0\n",
       "Z Khan         A Zampa                     0            0\n",
       "               MJ Lumb                     0            0\n",
       "               PR Shah                     0            0\n",
       "\n",
       "[24213 rows x 2 columns]"
      ]
     },
     "execution_count": 43,
     "metadata": {},
     "output_type": "execute_result"
    }
   ],
   "source": [
    "ipl.groupby(['bowler','batter'])[['isWicketDelivery','batsman_run']].sum().sort_values(by=['isWicketDelivery','batsman_run'],ascending=False)"
   ]
  },
  {
   "cell_type": "markdown",
   "metadata": {
    "id": "7BP2EDkNO6KM"
   },
   "source": [
    "###`Q-7`: Most successful batting pair in IPL. Batting pair who have scored most runs playing together.\n"
   ]
  },
  {
   "cell_type": "code",
   "execution_count": 60,
   "metadata": {
    "id": "lRlbTuarO80s"
   },
   "outputs": [
    {
     "data": {
      "text/plain": [
       "('AB de Villiers', 'V Kohli')"
      ]
     },
     "execution_count": 60,
     "metadata": {},
     "output_type": "execute_result"
    }
   ],
   "source": [
    "ipl.groupby(['batter','non-striker'])['batsman_run'].sum().sort_values(ascending=False).idxmax()"
   ]
  },
  {
   "cell_type": "markdown",
   "metadata": {
    "id": "gVJ2CnAxO-b0"
   },
   "source": [
    "###`Q-8:` Make a dataframe for all batting pairs played together.\n",
    "```\n",
    "Batsman1 Batsman2 Runs Avg StrikeRate\n",
    "```\n",
    "\n",
    "> Just to ease this question you can count wide-balls for strike rate."
   ]
  },
  {
   "cell_type": "code",
   "execution_count": 55,
   "metadata": {
    "id": "S0bgMx_dPA9Y"
   },
   "outputs": [
    {
     "data": {
      "text/html": [
       "<div>\n",
       "<style scoped>\n",
       "    .dataframe tbody tr th:only-of-type {\n",
       "        vertical-align: middle;\n",
       "    }\n",
       "\n",
       "    .dataframe tbody tr th {\n",
       "        vertical-align: top;\n",
       "    }\n",
       "\n",
       "    .dataframe thead th {\n",
       "        text-align: right;\n",
       "    }\n",
       "</style>\n",
       "<table border=\"1\" class=\"dataframe\">\n",
       "  <thead>\n",
       "    <tr style=\"text-align: right;\">\n",
       "      <th></th>\n",
       "      <th>batter</th>\n",
       "      <th>non-striker</th>\n",
       "      <th>Total_run</th>\n",
       "      <th>Avg</th>\n",
       "    </tr>\n",
       "  </thead>\n",
       "  <tbody>\n",
       "    <tr>\n",
       "      <th>0</th>\n",
       "      <td>A Ashish Reddy</td>\n",
       "      <td>A Mishra</td>\n",
       "      <td>19</td>\n",
       "      <td>1.266667</td>\n",
       "    </tr>\n",
       "    <tr>\n",
       "      <th>1</th>\n",
       "      <td>A Ashish Reddy</td>\n",
       "      <td>AA Jhunjhunwala</td>\n",
       "      <td>3</td>\n",
       "      <td>1.000000</td>\n",
       "    </tr>\n",
       "    <tr>\n",
       "      <th>2</th>\n",
       "      <td>A Ashish Reddy</td>\n",
       "      <td>CL White</td>\n",
       "      <td>3</td>\n",
       "      <td>1.000000</td>\n",
       "    </tr>\n",
       "    <tr>\n",
       "      <th>3</th>\n",
       "      <td>A Ashish Reddy</td>\n",
       "      <td>DB Ravi Teja</td>\n",
       "      <td>6</td>\n",
       "      <td>2.000000</td>\n",
       "    </tr>\n",
       "  </tbody>\n",
       "</table>\n",
       "</div>"
      ],
      "text/plain": [
       "           batter      non-striker  Total_run       Avg\n",
       "0  A Ashish Reddy         A Mishra         19  1.266667\n",
       "1  A Ashish Reddy  AA Jhunjhunwala          3  1.000000\n",
       "2  A Ashish Reddy         CL White          3  1.000000\n",
       "3  A Ashish Reddy     DB Ravi Teja          6  2.000000"
      ]
     },
     "execution_count": 55,
     "metadata": {},
     "output_type": "execute_result"
    }
   ],
   "source": [
    "df=ipl.groupby(['batter','non-striker']).agg({'batsman_run':['sum','mean']}).reset_index()\n",
    "df.columns=['batter','non-striker','Total_run','Avg']\n",
    "df.head(4)"
   ]
  },
  {
   "cell_type": "code",
   "execution_count": 56,
   "metadata": {},
   "outputs": [
    {
     "data": {
      "text/html": [
       "<div>\n",
       "<style scoped>\n",
       "    .dataframe tbody tr th:only-of-type {\n",
       "        vertical-align: middle;\n",
       "    }\n",
       "\n",
       "    .dataframe tbody tr th {\n",
       "        vertical-align: top;\n",
       "    }\n",
       "\n",
       "    .dataframe thead th {\n",
       "        text-align: right;\n",
       "    }\n",
       "</style>\n",
       "<table border=\"1\" class=\"dataframe\">\n",
       "  <thead>\n",
       "    <tr style=\"text-align: right;\">\n",
       "      <th></th>\n",
       "      <th>batter</th>\n",
       "      <th>non-striker</th>\n",
       "      <th>Total_ball</th>\n",
       "    </tr>\n",
       "  </thead>\n",
       "  <tbody>\n",
       "    <tr>\n",
       "      <th>0</th>\n",
       "      <td>A Ashish Reddy</td>\n",
       "      <td>A Mishra</td>\n",
       "      <td>15</td>\n",
       "    </tr>\n",
       "    <tr>\n",
       "      <th>1</th>\n",
       "      <td>A Ashish Reddy</td>\n",
       "      <td>AA Jhunjhunwala</td>\n",
       "      <td>3</td>\n",
       "    </tr>\n",
       "    <tr>\n",
       "      <th>2</th>\n",
       "      <td>A Ashish Reddy</td>\n",
       "      <td>CL White</td>\n",
       "      <td>3</td>\n",
       "    </tr>\n",
       "    <tr>\n",
       "      <th>3</th>\n",
       "      <td>A Ashish Reddy</td>\n",
       "      <td>DB Ravi Teja</td>\n",
       "      <td>3</td>\n",
       "    </tr>\n",
       "    <tr>\n",
       "      <th>4</th>\n",
       "      <td>A Ashish Reddy</td>\n",
       "      <td>DJG Sammy</td>\n",
       "      <td>18</td>\n",
       "    </tr>\n",
       "    <tr>\n",
       "      <th>...</th>\n",
       "      <td>...</td>\n",
       "      <td>...</td>\n",
       "      <td>...</td>\n",
       "    </tr>\n",
       "    <tr>\n",
       "      <th>8057</th>\n",
       "      <td>Z Khan</td>\n",
       "      <td>S Aravind</td>\n",
       "      <td>2</td>\n",
       "    </tr>\n",
       "    <tr>\n",
       "      <th>8058</th>\n",
       "      <td>Z Khan</td>\n",
       "      <td>S Nadeem</td>\n",
       "      <td>5</td>\n",
       "    </tr>\n",
       "    <tr>\n",
       "      <th>8059</th>\n",
       "      <td>Z Khan</td>\n",
       "      <td>SL Malinga</td>\n",
       "      <td>8</td>\n",
       "    </tr>\n",
       "    <tr>\n",
       "      <th>8060</th>\n",
       "      <td>Z Khan</td>\n",
       "      <td>SR Tendulkar</td>\n",
       "      <td>3</td>\n",
       "    </tr>\n",
       "    <tr>\n",
       "      <th>8061</th>\n",
       "      <td>Z Khan</td>\n",
       "      <td>SS Tiwary</td>\n",
       "      <td>25</td>\n",
       "    </tr>\n",
       "  </tbody>\n",
       "</table>\n",
       "<p>8062 rows × 3 columns</p>\n",
       "</div>"
      ],
      "text/plain": [
       "              batter      non-striker  Total_ball\n",
       "0     A Ashish Reddy         A Mishra          15\n",
       "1     A Ashish Reddy  AA Jhunjhunwala           3\n",
       "2     A Ashish Reddy         CL White           3\n",
       "3     A Ashish Reddy     DB Ravi Teja           3\n",
       "4     A Ashish Reddy        DJG Sammy          18\n",
       "...              ...              ...         ...\n",
       "8057          Z Khan        S Aravind           2\n",
       "8058          Z Khan         S Nadeem           5\n",
       "8059          Z Khan       SL Malinga           8\n",
       "8060          Z Khan     SR Tendulkar           3\n",
       "8061          Z Khan        SS Tiwary          25\n",
       "\n",
       "[8062 rows x 3 columns]"
      ]
     },
     "execution_count": 56,
     "metadata": {},
     "output_type": "execute_result"
    }
   ],
   "source": [
    "count=ipl.groupby(['batter','non-striker'])['ballnumber'].count().reset_index(name='Total_ball')\n",
    "count"
   ]
  },
  {
   "cell_type": "code",
   "execution_count": 58,
   "metadata": {},
   "outputs": [
    {
     "data": {
      "text/html": [
       "<div>\n",
       "<style scoped>\n",
       "    .dataframe tbody tr th:only-of-type {\n",
       "        vertical-align: middle;\n",
       "    }\n",
       "\n",
       "    .dataframe tbody tr th {\n",
       "        vertical-align: top;\n",
       "    }\n",
       "\n",
       "    .dataframe thead th {\n",
       "        text-align: right;\n",
       "    }\n",
       "</style>\n",
       "<table border=\"1\" class=\"dataframe\">\n",
       "  <thead>\n",
       "    <tr style=\"text-align: right;\">\n",
       "      <th></th>\n",
       "      <th>batter</th>\n",
       "      <th>non-striker</th>\n",
       "      <th>Total_run</th>\n",
       "      <th>Avg</th>\n",
       "      <th>Total_ball_x</th>\n",
       "      <th>Total_ball_y</th>\n",
       "    </tr>\n",
       "  </thead>\n",
       "  <tbody>\n",
       "    <tr>\n",
       "      <th>0</th>\n",
       "      <td>A Ashish Reddy</td>\n",
       "      <td>A Mishra</td>\n",
       "      <td>19</td>\n",
       "      <td>1.266667</td>\n",
       "      <td>15</td>\n",
       "      <td>15</td>\n",
       "    </tr>\n",
       "    <tr>\n",
       "      <th>1</th>\n",
       "      <td>A Ashish Reddy</td>\n",
       "      <td>AA Jhunjhunwala</td>\n",
       "      <td>3</td>\n",
       "      <td>1.000000</td>\n",
       "      <td>3</td>\n",
       "      <td>3</td>\n",
       "    </tr>\n",
       "    <tr>\n",
       "      <th>2</th>\n",
       "      <td>A Ashish Reddy</td>\n",
       "      <td>CL White</td>\n",
       "      <td>3</td>\n",
       "      <td>1.000000</td>\n",
       "      <td>3</td>\n",
       "      <td>3</td>\n",
       "    </tr>\n",
       "  </tbody>\n",
       "</table>\n",
       "</div>"
      ],
      "text/plain": [
       "           batter      non-striker  Total_run       Avg  Total_ball_x  \\\n",
       "0  A Ashish Reddy         A Mishra         19  1.266667            15   \n",
       "1  A Ashish Reddy  AA Jhunjhunwala          3  1.000000             3   \n",
       "2  A Ashish Reddy         CL White          3  1.000000             3   \n",
       "\n",
       "   Total_ball_y  \n",
       "0            15  \n",
       "1             3  \n",
       "2             3  "
      ]
     },
     "execution_count": 58,
     "metadata": {},
     "output_type": "execute_result"
    }
   ],
   "source": [
    "\n",
    "df=df.merge(count,on=['batter','non-striker'])\n",
    "df.head(3)\n"
   ]
  },
  {
   "cell_type": "code",
   "execution_count": 59,
   "metadata": {},
   "outputs": [
    {
     "data": {
      "text/html": [
       "<div>\n",
       "<style scoped>\n",
       "    .dataframe tbody tr th:only-of-type {\n",
       "        vertical-align: middle;\n",
       "    }\n",
       "\n",
       "    .dataframe tbody tr th {\n",
       "        vertical-align: top;\n",
       "    }\n",
       "\n",
       "    .dataframe thead th {\n",
       "        text-align: right;\n",
       "    }\n",
       "</style>\n",
       "<table border=\"1\" class=\"dataframe\">\n",
       "  <thead>\n",
       "    <tr style=\"text-align: right;\">\n",
       "      <th></th>\n",
       "      <th>batter</th>\n",
       "      <th>non-striker</th>\n",
       "      <th>Total_run</th>\n",
       "      <th>Avg</th>\n",
       "      <th>Total_ball_x</th>\n",
       "      <th>Total_ball_y</th>\n",
       "      <th>StrikeRate</th>\n",
       "    </tr>\n",
       "  </thead>\n",
       "  <tbody>\n",
       "    <tr>\n",
       "      <th>0</th>\n",
       "      <td>A Ashish Reddy</td>\n",
       "      <td>A Mishra</td>\n",
       "      <td>19</td>\n",
       "      <td>1.266667</td>\n",
       "      <td>15</td>\n",
       "      <td>15</td>\n",
       "      <td>126.666667</td>\n",
       "    </tr>\n",
       "    <tr>\n",
       "      <th>1</th>\n",
       "      <td>A Ashish Reddy</td>\n",
       "      <td>AA Jhunjhunwala</td>\n",
       "      <td>3</td>\n",
       "      <td>1.000000</td>\n",
       "      <td>3</td>\n",
       "      <td>3</td>\n",
       "      <td>100.000000</td>\n",
       "    </tr>\n",
       "    <tr>\n",
       "      <th>2</th>\n",
       "      <td>A Ashish Reddy</td>\n",
       "      <td>CL White</td>\n",
       "      <td>3</td>\n",
       "      <td>1.000000</td>\n",
       "      <td>3</td>\n",
       "      <td>3</td>\n",
       "      <td>100.000000</td>\n",
       "    </tr>\n",
       "    <tr>\n",
       "      <th>3</th>\n",
       "      <td>A Ashish Reddy</td>\n",
       "      <td>DB Ravi Teja</td>\n",
       "      <td>6</td>\n",
       "      <td>2.000000</td>\n",
       "      <td>3</td>\n",
       "      <td>3</td>\n",
       "      <td>200.000000</td>\n",
       "    </tr>\n",
       "    <tr>\n",
       "      <th>4</th>\n",
       "      <td>A Ashish Reddy</td>\n",
       "      <td>DJG Sammy</td>\n",
       "      <td>26</td>\n",
       "      <td>1.444444</td>\n",
       "      <td>18</td>\n",
       "      <td>18</td>\n",
       "      <td>144.444444</td>\n",
       "    </tr>\n",
       "  </tbody>\n",
       "</table>\n",
       "</div>"
      ],
      "text/plain": [
       "           batter      non-striker  Total_run       Avg  Total_ball_x  \\\n",
       "0  A Ashish Reddy         A Mishra         19  1.266667            15   \n",
       "1  A Ashish Reddy  AA Jhunjhunwala          3  1.000000             3   \n",
       "2  A Ashish Reddy         CL White          3  1.000000             3   \n",
       "3  A Ashish Reddy     DB Ravi Teja          6  2.000000             3   \n",
       "4  A Ashish Reddy        DJG Sammy         26  1.444444            18   \n",
       "\n",
       "   Total_ball_y  StrikeRate  \n",
       "0            15  126.666667  \n",
       "1             3  100.000000  \n",
       "2             3  100.000000  \n",
       "3             3  200.000000  \n",
       "4            18  144.444444  "
      ]
     },
     "execution_count": 59,
     "metadata": {},
     "output_type": "execute_result"
    }
   ],
   "source": [
    "df['StrikeRate']=(df['Total_run']/df['Total_ball_x'])*100\n",
    "df.head(5)"
   ]
  },
  {
   "cell_type": "code",
   "execution_count": null,
   "metadata": {},
   "outputs": [],
   "source": []
  }
 ],
 "metadata": {
  "colab": {
   "provenance": []
  },
  "kernelspec": {
   "display_name": "Python 3 (ipykernel)",
   "language": "python",
   "name": "python3"
  },
  "language_info": {
   "codemirror_mode": {
    "name": "ipython",
    "version": 3
   },
   "file_extension": ".py",
   "mimetype": "text/x-python",
   "name": "python",
   "nbconvert_exporter": "python",
   "pygments_lexer": "ipython3",
   "version": "3.12.7"
  }
 },
 "nbformat": 4,
 "nbformat_minor": 4
}
